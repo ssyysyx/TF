{
 "cells": [
  {
   "cell_type": "markdown",
   "id": "d60df09e",
   "metadata": {},
   "source": [
    "## 打开文件"
   ]
  },
  {
   "cell_type": "code",
   "execution_count": 1,
   "id": "dffaf6ae",
   "metadata": {},
   "outputs": [
    {
     "name": "stdout",
     "output_type": "stream",
     "text": [
      "------------------------检测万得登录情况：------------------------\n"
     ]
    }
   ],
   "source": [
    "print(\"------------------------检测万得登录情况：------------------------\")"
   ]
  },
  {
   "cell_type": "code",
   "execution_count": 2,
   "id": "1951dfe7",
   "metadata": {
    "scrolled": true
   },
   "outputs": [
    {
     "name": "stdout",
     "output_type": "stream",
     "text": [
      "Welcome to use Wind Quant API for Python (WindPy)!\n",
      "\n",
      "COPYRIGHT (C) 2020 WIND INFORMATION CO., LTD. ALL RIGHTS RESERVED.\n",
      "IN NO CIRCUMSTANCE SHALL WIND BE RESPONSIBLE FOR ANY DAMAGES OR LOSSES CAUSED BY USING WIND QUANT API FOR Python.\n",
      "------------------------万得已登录------------------------\n",
      "***************************************************************\n",
      "Input File List:\n",
      "C:\\Users\\Administrator\\Desktop\\债券持仓情况集中度/data/组合证券\n",
      "C:\\Users\\Administrator\\Desktop\\债券持仓情况集中度/data/投资组合\n",
      "C:\\Users\\Administrator\\Desktop\\债券持仓情况集中度/data/债券持仓\n",
      "****************************************************************\n",
      "Find and Open:\n",
      "C:\\Users\\Administrator\\Desktop\\债券持仓情况集中度/data/债券持仓情况集中度0209.xlsx\n",
      "C:\\Users\\Administrator\\Desktop\\债券持仓情况集中度/data/收益风险评估_投资组合_2022-02-10+13：15：43.xls\n",
      "C:\\Users\\Administrator\\Desktop\\债券持仓情况集中度/data/新综合信息查询-组合证券a.xls\n",
      "WARNING *** file size (236692) not 512 + multiple of sector size (512)\n",
      "WARNING *** OLE2 inconsistency: SSCS size is 0 but SSAT size is non-zero\n",
      "-----------------------忽略警告【warning】----------------------\n"
     ]
    }
   ],
   "source": [
    "from WindPy import *\n",
    "import xlwings as xw\n",
    "import numpy as np\n",
    "import os\n",
    "import pandas as pd\n",
    "from openpyxl import load_workbook\n",
    "import warnings\n",
    "import datetime\n",
    "warnings.filterwarnings('ignore')\n",
    "w.start()\n",
    "print(\"------------------------万得已登录------------------------\")\n",
    "\n",
    "path = os.getcwd()\n",
    "data_file = os.listdir(path + '/data')\n",
    "result_file = os.listdir(path + '/result' )\n",
    "\n",
    "print(\"***************************************************************\")\n",
    "print(\"Input File List:\")\n",
    "print(path+'/data/组合证券')\n",
    "print(path+'/data/投资组合')\n",
    "print(path+'/data/债券持仓')\n",
    "\n",
    "print(\"****************************************************************\")\n",
    "print(\"Find and Open:\")\n",
    "\n",
    "for f in data_file:\n",
    "    if \"组合证券\" in f:\n",
    "        print(path + '/data/' + f)\n",
    "        df_jiaoyisuo_records = pd.read_excel(path + '/data/' + f,sheet_name=0,dtype={'证券代码': str,'持仓':float})\n",
    "    if \"投资组合\" in f:\n",
    "        print(path + '/data/' + f)\n",
    "        df_yinhangjian_records = pd.read_excel(path + '/data/' + f,sheet_name=0,dtype={'面额': float})\n",
    "    if \"债券持仓\" in f:\n",
    "        filename_ori = path + '/data/' + f\n",
    "        print(path + '/data/' + f)\n",
    "        df_result_records = pd.read_excel(path + '/data/' + f,sheet_name='债券类持有列表',dtype={'代码': str,'面额': float})\n",
    "        wb = xw.Book(path + '/data/' + f)\n",
    "\n",
    "print(\"-----------------------忽略警告【warning】----------------------\")\n",
    "\n",
    "td = datetime.date.today()\n",
    "tod = td\n",
    "ytd = w.tdaysoffset(-1, td.strftime(\"%Y-%m-%d\"), \"\").Data[0][0]\n",
    "td = str(td)\n",
    "riqi = td[5:7] + td[8:10]\n",
    "file_name = path + '/result/债券持仓情况集中度'+riqi+'.xlsx'"
   ]
  },
  {
   "cell_type": "code",
   "execution_count": 4,
   "id": "f8d5a4c1",
   "metadata": {},
   "outputs": [],
   "source": [
    "last_row = int(wb.sheets['总持仓变化'].range('A' + str(wb.sheets[1].cells.last_cell.row)).end('up').row)\n",
    "wb.sheets['总持仓变化'].range('A'+str(last_row+1)).value = tod"
   ]
  },
  {
   "cell_type": "markdown",
   "id": "8d41b902",
   "metadata": {},
   "source": [
    "## 数据清洗"
   ]
  },
  {
   "cell_type": "code",
   "execution_count": 5,
   "id": "5433163e",
   "metadata": {},
   "outputs": [],
   "source": [
    "# 只留下资产类别列包含债券资产的行\n",
    "df_jiaoyisuo_records = df_jiaoyisuo_records[df_jiaoyisuo_records['资产类别']=='债券资产']\n",
    "# 简化列\n",
    "df_jiaoyisuo_records = df_jiaoyisuo_records[['证券代码','持仓','证券名称','交易市场']]\n",
    "df_yinhangjian_records = df_yinhangjian_records[['Unnamed: 2','面额']]\n",
    "df_yinhangjian_records['证券名称'] = pd.Series(df_yinhangjian_records['Unnamed: 2'],index = df_yinhangjian_records.index)\n",
    "# 将带有空值的行全部删除\n",
    "df_yinhangjian_records = df_yinhangjian_records.dropna()\n",
    "df_jiaoyisuo_records = df_jiaoyisuo_records.dropna()\n",
    "# 删除Unnamed: 2这列包含某些关键字的行\n",
    "df_yinhangjian_records = df_yinhangjian_records[~df_yinhangjian_records['Unnamed: 2'].str.contains('质押式回购')]\n",
    "df_yinhangjian_records = df_yinhangjian_records[~df_yinhangjian_records['Unnamed: 2'].str.contains('拆入')]\n",
    "# 提取括号内的内容\n",
    "df_yinhangjian_records['Unnamed: 2'] = df_yinhangjian_records[\"Unnamed: 2\"].str.replace(r'.*\\(|\\).*', '')\n",
    "# 提取括号外的内容\n",
    "df_yinhangjian_records['证券名称'] = df_yinhangjian_records['证券名称'].str.replace(r\"\\(.*\\)\",\"\")"
   ]
  },
  {
   "cell_type": "markdown",
   "id": "cd0530c0",
   "metadata": {},
   "source": [
    "## 更新持仓信息"
   ]
  },
  {
   "cell_type": "code",
   "execution_count": 6,
   "id": "86bcffad",
   "metadata": {},
   "outputs": [],
   "source": [
    "# arrs保存代码列的所有值\n",
    "# print(type(df_result_records.loc[2,'代码']))\n",
    "col = df_result_records.iloc[:,1]\n",
    "arrs = col.values"
   ]
  },
  {
   "cell_type": "code",
   "execution_count": 7,
   "id": "2670beb3",
   "metadata": {
    "scrolled": true
   },
   "outputs": [],
   "source": [
    "SZ = '深交所A'\n",
    "SH = '上交所A'\n",
    "df_result_records['面额'] = 0.00\n",
    "\n",
    "# 更新交易所持仓信息\n",
    "for tup in df_jiaoyisuo_records.itertuples():\n",
    "    mytup1 = tup[1::]\n",
    "    if mytup1[0] in arrs:\n",
    "        val_init = df_result_records.loc[df_result_records['代码'] == mytup1[0],'面额']\n",
    "        val_init = val_init.values\n",
    "        if val_init == 0.00:\n",
    "            df_result_records.loc[df_result_records['代码'] == mytup1[0],'面额'] = mytup1[1]/100.0\n",
    "        else:\n",
    "            hang = df_result_records.loc[df_result_records['代码'] == mytup1[0]]\n",
    "            df_result_records.loc[df_result_records.shape[0]+1] = [hang['场所'].values[0],hang['代码'].values[0],hang['债券标的'].values[0],hang['行业'].values[0],mytup1[1]/100.0]\n",
    "\n",
    "    else:\n",
    "        if mytup1[3] == SZ:\n",
    "            sql_code = str(mytup1[0]+'.SZ')\n",
    "        else:sql_code = str(mytup1[0]+'.SH')\n",
    "        trans_industry = w.wsd(sql_code, \"industry_csrc12_n\", \"ED0D\", ytd.strftime(\"%Y-%m-%d\"), \"industryType=1\").Data[0][0]\n",
    "        df_result_records.loc[df_result_records.shape[0]+1] = [mytup1[3],mytup1[0],mytup1[2],trans_industry,mytup1[1]/100.0 ]\n",
    "\n",
    "# 更新银行间持仓信息\n",
    "for tup in df_yinhangjian_records.itertuples():\n",
    "    mytup1 = tup[1::]\n",
    "    if mytup1[0] in arrs:\n",
    "        val_init = df_result_records.loc[df_result_records['代码'] == mytup1[0],'面额']\n",
    "        val_init = val_init.values\n",
    "        if val_init == 0.00:\n",
    "            df_result_records.loc[df_result_records['代码'] == mytup1[0],'面额'] = mytup1[1]/10000.0\n",
    "        else:\n",
    "            hang = df_result_records.loc[df_result_records['代码'] == mytup1[0]]\n",
    "            df_result_records.loc[df_result_records.shape[0]+1] = [hang['场所'].values[0],hang['代码'].values[0],hang['债券标的'].values[0],hang['行业'].values[0],mytup1[1]/10000.0]\n",
    "    else:\n",
    "        sql_code = mytup1[0] + '.IB'\n",
    "        trans_industry = w.wsd(sql_code, \"industry_csrc12_n\", \"ED0D\", ytd.strftime(\"%Y-%m-%d\"), \"industryType=1\").Data[0][0]\n",
    "        df_result_records.loc[df_result_records.shape[0]+1] = ['银行间',mytup1[0],mytup1[2],trans_industry,mytup1[1]/10000.0 ]"
   ]
  },
  {
   "cell_type": "code",
   "execution_count": 8,
   "id": "f99a3198",
   "metadata": {
    "scrolled": true
   },
   "outputs": [],
   "source": [
    "# 更新占比表\n",
    "df_cate = pd.pivot_table(df_result_records,index = [\"行业\"],values = [\"面额\"],aggfunc = np.sum)\n",
    "df_cate['占比'] = df_cate['面额']/df_cate['面额'].sum()\n",
    "\n",
    "df_cate = df_cate.sort_values(by = '占比',ascending = False)\n",
    "\n",
    "def turn_percentage(x):\n",
    "    return '%.2f%%' % (x* 100)\n",
    "df_cate['占比'] = df_cate['占比'].apply(turn_percentage)\n",
    "\n",
    "# df_cate['占比'] = df_cate['占比'].apply(lambda x:'%.2f%%' % (x* 100) ,axis=1)\n",
    "\n",
    "df_cate.loc[\"持仓总和\"] = df_cate.apply(lambda x:x.sum())\n",
    "df_cate.loc[\"持仓总和\",\"占比\"] = '100%'\n",
    "\n",
    "df_cate = df_cate.round({'面额': 1})\n"
   ]
  },
  {
   "cell_type": "markdown",
   "id": "31f844df",
   "metadata": {},
   "source": [
    "## 保存至result"
   ]
  },
  {
   "cell_type": "code",
   "execution_count": 9,
   "id": "b1533050",
   "metadata": {
    "scrolled": true
   },
   "outputs": [],
   "source": [
    "wb.sheets['总持仓变化'].range('B'+str(last_row+1)).value = df_cate.loc['持仓总和','面额']\n",
    "wb.sheets['债券类持仓'].clear()\n",
    "wb.sheets['占比'].clear()\n",
    "wb.sheets['房地产类持仓'].clear()"
   ]
  },
  {
   "cell_type": "code",
   "execution_count": 10,
   "id": "86f0d8cb",
   "metadata": {},
   "outputs": [],
   "source": [
    "df_cate['面额'] = df_cate['面额'].astype(str)\n",
    "df_state = df_result_records[df_result_records['行业']=='房地产业']\n",
    "\n",
    "wb.sheets['债券类持仓'].range('A1').expand('table').value = df_result_records\n",
    "wb.sheets['占比'].range('A1').expand('table').value = df_cate\n",
    "wb.sheets['房地产类持仓'].range('A1').expand('table').value = df_state\n",
    "\n",
    "wb.sheets['债券类持仓']['A:A'].delete()\n",
    "wb.sheets['房地产类持仓']['A:A'].delete()\n",
    "\n",
    "wb.sheets['占比'].range(\"A1:C1\").api.Font.Bold = True"
   ]
  },
  {
   "cell_type": "code",
   "execution_count": 11,
   "id": "616ae519",
   "metadata": {},
   "outputs": [],
   "source": [
    "wb.save(file_name)\n",
    "wb.close()\n",
    "\n",
    "print(\"****************************************************************\")\n",
    "print(\"Output File:\")\n",
    "print(file_name)\n",
    "print(\"****************************************************************\")"
   ]
  },
  {
   "cell_type": "code",
   "execution_count": 12,
   "id": "77cf291b",
   "metadata": {},
   "outputs": [],
   "source": [
    "# writer = pd.ExcelWriter(file_name,engine = 'openpyxl')\n",
    "# book = load_workbook(file_name)\n",
    "# writer.book = book\n",
    "\n",
    "# df_result_records.to_excel(writer,sheet_name = '债券类持仓',index = False)\n",
    "# df_cate.to_excel(writer,sheet_name = '占比')\n",
    "# df_state.to_excel(writer,sheet_name = '房地产类持仓',index = False)\n",
    "# writer.save()"
   ]
  },
  {
   "cell_type": "code",
   "execution_count": 13,
   "id": "15cbe40d",
   "metadata": {},
   "outputs": [],
   "source": [
    "# # 调整格式\n",
    "# from openpyxl.styles import Font\n",
    "# from openpyxl.styles import Alignment\n",
    "# workbook = load_workbook(filename = file_name)\n",
    "# sheet = workbook['占比']\n",
    "# sheet.column_dimensions['A'].width = 40\n",
    "# sheet.column_dimensions['B'].width = 15\n",
    "# sheet.column_dimensions['C'].width = 15\n",
    "# font = Font(color=\"FF0000\")\n",
    "# cellss = sheet['C']\n",
    "# for item in cellss:\n",
    "#     if item.value!='占比' and item.value!='100%':\n",
    "#         val = float(item.value[0:4])\n",
    "#         if val>10:\n",
    "#             item.font = font\n",
    "# cells = sheet['C']\n",
    "# for cell in cells:\n",
    "#     cell.alignment = Alignment(horizontal = 'right')\n",
    "# cells = sheet['B']\n",
    "# for cell in cells:\n",
    "#     cell.alignment = Alignment(horizontal = 'right')\n",
    "# cells = sheet['A']\n",
    "# for cell in cells:\n",
    "#     cell.alignment = Alignment(horizontal = 'right')\n",
    "    \n",
    "# sheet1 = workbook['债券类持仓']\n",
    "# sheet1.column_dimensions['A'].width = 10\n",
    "# sheet1.column_dimensions['B'].width = 10\n",
    "# sheet1.column_dimensions['C'].width = 23\n",
    "# sheet1.column_dimensions['D'].width = 32\n",
    "# sheet1.column_dimensions['E'].width = 10\n",
    "# cells = sheet1['B']\n",
    "# for cell in cells:\n",
    "#     cell.alignment = Alignment(horizontal = 'left')\n",
    "# sheet1.auto_filter.ref = sheet1.dimensions\n",
    "\n",
    "# sheet2 = workbook['房地产类持仓']\n",
    "# sheet2.column_dimensions['B'].width = 14\n",
    "# sheet2.column_dimensions['C'].width = 24\n",
    "# sheet2.auto_filter.ref = 'A1'\n",
    "# workbook.save(filename = file_name)\n",
    "\n",
    "# print(\"****************************************************************\")\n",
    "# print(\"Output File:\")\n",
    "# print(file_name)\n",
    "# print(\"****************************************************************\")"
   ]
  },
  {
   "cell_type": "code",
   "execution_count": null,
   "id": "3ed34092",
   "metadata": {},
   "outputs": [],
   "source": []
  }
 ],
 "metadata": {
  "kernelspec": {
   "display_name": "Python 3 (ipykernel)",
   "language": "python",
   "name": "python3"
  },
  "language_info": {
   "codemirror_mode": {
    "name": "ipython",
    "version": 3
   },
   "file_extension": ".py",
   "mimetype": "text/x-python",
   "name": "python",
   "nbconvert_exporter": "python",
   "pygments_lexer": "ipython3",
   "version": "3.9.7"
  }
 },
 "nbformat": 4,
 "nbformat_minor": 5
}
