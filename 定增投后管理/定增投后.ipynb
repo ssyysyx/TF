{
 "cells": [
  {
   "cell_type": "code",
   "execution_count": 1,
   "id": "ff4b17fd",
   "metadata": {
    "scrolled": true
   },
   "outputs": [
    {
     "name": "stdout",
     "output_type": "stream",
     "text": [
      "***************************************************************\n",
      "Input File List:\n",
      "C:\\Users\\Administrator\\Desktop\\定增投后管理/data/定增投后管理\n",
      "C:\\Users\\Administrator\\Desktop\\定增投后管理/data/君享天成\n",
      "C:\\Users\\Administrator\\Desktop\\定增投后管理/data/盯市日报\n",
      "C:\\Users\\Administrator\\Desktop\\定增投后管理/data/收益互换日报表\n",
      "***************************************************************\n",
      "Find and Open:\n",
      "C:\\Users\\Administrator\\Desktop\\定增投后管理/data/定增投后管理-20220218.xlsx\n"
     ]
    }
   ],
   "source": [
    "import os\n",
    "import xlwings as xw\n",
    "import datetime\n",
    "import pandas as pd\n",
    "import warnings\n",
    "warnings.filterwarnings('ignore') \n",
    "from openpyxl import load_workbook\n",
    "\n",
    "pwd = os.getcwd()\n",
    "data_file = os.listdir(pwd+'/data')\n",
    "\n",
    "print(\"***************************************************************\")\n",
    "print(\"Input File List:\")\n",
    "print(pwd+'/data/定增投后管理')\n",
    "print(pwd+'/data/君享天成')\n",
    "print(pwd+'/data/盯市日报')\n",
    "print(pwd+'/data/收益互换日报表')\n",
    "\n",
    "print(\"***************************************************************\")\n",
    "print(\"Find and Open:\")\n",
    "path = ''\n",
    "for f in data_file:\n",
    "    if '定增投后管理' in f:\n",
    "        print(pwd + '/data/' + f)\n",
    "        path = pwd + '/data/' + f\n",
    "        df_dzth_cc = pd.read_excel(pwd+'/data/'+f,sheet_name=0)\n",
    "        df_dzth_cl = pd.read_excel(pwd+'/data/'+f,sheet_name=1,header=1)\n",
    "        df_dzth_jx = pd.read_excel(pwd+'/data/'+f,sheet_name=2,header=1)\n",
    "\n",
    "workbook_dzth = load_workbook(filename = path)\n",
    "wb = xw.Book(path)"
   ]
  },
  {
   "cell_type": "code",
   "execution_count": 2,
   "id": "732f31af",
   "metadata": {},
   "outputs": [
    {
     "name": "stdout",
     "output_type": "stream",
     "text": [
      "C:\\Users\\Administrator\\Desktop\\定增投后管理/data/君享天成_Z-2022-02-21.xls\n",
      "C:\\Users\\Administrator\\Desktop\\定增投后管理/data/收益互换日报表&交易回执-天风证券股份有限公司-20220221.xls\n",
      "C:\\Users\\Administrator\\Desktop\\定增投后管理/data/盯市日报表(天风证券股份有限公司)20220221.xlsx\n"
     ]
    }
   ],
   "source": [
    "import pandas as pd\n",
    "data_file = os.listdir(pwd+'/data')\n",
    "\n",
    "for f in data_file:\n",
    "    if \"君享天成\" in f:\n",
    "        print(pwd + '/data/' + f)\n",
    "        df_jxtc = pd.read_excel(pwd+'/data/'+f,sheet_name=0,header=3)\n",
    "    if \"盯市日报\" in f:\n",
    "        print(pwd + '/data/' + f)\n",
    "        workbook_ds = load_workbook(filename = pwd+'/data/'+f)\n",
    "    if \"收益互换日报表\" in f:\n",
    "        print(pwd + '/data/' + f)\n",
    "        df_hygz = pd.read_excel(pwd+'/data/'+f,sheet_name=0)\n",
    "        df_bdcc = pd.read_excel(pwd+'/data/'+f,sheet_name=\"标的持仓\")"
   ]
  },
  {
   "cell_type": "code",
   "execution_count": 3,
   "id": "6acd4111",
   "metadata": {},
   "outputs": [],
   "source": [
    "last_row_0 = wb.sheets[0].range('S'+str(wb.sheets[0].cells.last_cell.row)).end('up').row"
   ]
  },
  {
   "cell_type": "code",
   "execution_count": 4,
   "id": "4ab513d8",
   "metadata": {},
   "outputs": [],
   "source": [
    "l = len(wb.sheets)\n",
    "last_row=[int(wb.sheets[i].range('A' + str(wb.sheets[i].cells.last_cell.row)).end('up').row)  for i in  range(l) ]\n",
    "\n",
    "oneday = datetime.timedelta(days=1)\n",
    "LastReportDate = wb.sheets[1].range('A'+str(last_row[1])).value.date()\n",
    "reportday = str(df_hygz['估值日'][0])\n",
    "ReportDate = datetime.date(int(reportday[:4]),int(reportday[4:6]),int(reportday[6:8]))\n",
    "DateDelta = (ReportDate-LastReportDate).days\n",
    "\n",
    "new_row = [x+DateDelta for x in last_row]\n",
    "new_row_0 = last_row_0 + DateDelta"
   ]
  },
  {
   "cell_type": "code",
   "execution_count": 6,
   "id": "0a2d2650",
   "metadata": {},
   "outputs": [],
   "source": [
    "# 存公式\n",
    "formula_1 = '=SUMIF(持仓!$A$2:$A$1048576,\"国君互换\",持仓!$F$2:$F$1048576)+SUMIF(持仓!$A$2:$A$1048576,\"银河互换\",持仓!$F$2:$F$1048576)'\n",
    "formula_2 = '=SUMIF(持仓!$A$2:$A$1048576,\"国君互换\",持仓!$F$2:$F$1048576)+SUMIF(持仓!$A$2:$A$1048576,\"国君互换\",持仓!$N$2:$N$1048576)+SUMIF(持仓!$A$2:$A$1048576,\"银河互换\",持仓!$F$2:$F$1048576)+SUMIF(持仓!$A$2:$A$1048576,\"银河互换\",持仓!$N$2:$N$1048576)'\n",
    "formula_3 = '=SUMIF(持仓!$A$2:$A$1048576,\"财通产品\",持仓!$F$2:$F$1048576)+SUMIF(持仓!$A$2:$A$1048576,\"财通产品\",持仓!$N$2:$N$1048576)'\n",
    "formula_4 = '=SUM($F$2:$F$1048576)+SUM($N$2:$N$1048576)'\n",
    "\n",
    "# 将单元格值化\n",
    "temp_1 = float(df_dzth_cl['标的当前市值'].iloc[-1])\n",
    "wb.sheets[1].range('D'+str(last_row[1])).value = temp_1\n",
    "temp_2 = float(df_dzth_cl['标的总期初市值'].iloc[-1])\n",
    "wb.sheets[1].range('C'+str(last_row[1])).value = temp_2\n",
    "temp_3 = float(df_dzth_jx['资产净值'].iloc[-1])\n",
    "wb.sheets[2].range('D'+str(last_row[2])).value = temp_3\n",
    "temp_4 = float(df_dzth_cc['申购金额+权益收益金额'].iloc[last_row_0-2])\n",
    "wb.sheets[0].range('T'+str(last_row_0)).value = temp_4"
   ]
  },
  {
   "cell_type": "code",
   "execution_count": 7,
   "id": "4bacec5d",
   "metadata": {
    "scrolled": true
   },
   "outputs": [],
   "source": [
    "# autofill下面一栏\n",
    "for i,k in zip([1,2,3],['L','G','F']):\n",
    "    cur_rng = 'A'+str(last_row[i])+':'+ k + str(last_row[i])\n",
    "    exp_rng = 'A'+str(last_row[i])+':'+ k + str(new_row[i])\n",
    "    #     print(cur_rng)\n",
    "    #     print(exp_rng)\n",
    "    wb.sheets[i].range(cur_rng).api.AutoFill(wb.sheets[i].range(exp_rng).api,1)\n",
    "\n",
    "# autofill 持仓\n",
    "cur_rng = 'S'+str(last_row_0)+\":U\"+str(last_row_0)\n",
    "exp_rng = 'S'+str(last_row_0)+\":U\"+str(new_row_0)\n",
    "wb.sheets[0].range(cur_rng).api.AutoFill(wb.sheets[0].range(exp_rng).api,1)\n",
    "    \n",
    "# 加上日期\n",
    "for d in range(1,DateDelta+1,1):\n",
    "    \n",
    "    for i in [1,2,3]:\n",
    "        lastdate = wb.sheets[i].range('A'+str(last_row[i])).value.date()\n",
    "        #print(lastdate)\n",
    "        filldate = lastdate + datetime.timedelta(days = d)\n",
    "        #print(filldate)\n",
    "        wb.sheets[i].range('A'+str(last_row[i]+d)).value = filldate\n",
    "        \n",
    "    # 第0个sheet\n",
    "    lastdate = wb.sheets[0].range('S'+str(last_row_0)).value.date()\n",
    "    filldate = lastdate + datetime.timedelta(days = d)\n",
    "    wb.sheets[0].range('S'+str(last_row_0+d)).value = filldate\n",
    "    \n",
    "# 新增重置\n",
    "wb.sheets[1].range('B'+str(new_row[1])).value = None"
   ]
  },
  {
   "cell_type": "code",
   "execution_count": 8,
   "id": "0aaaf446",
   "metadata": {},
   "outputs": [],
   "source": [
    "# 处理持仓\n",
    "wb.sheets[0].range('T'+str(new_row_0)).formula = formula_4"
   ]
  },
  {
   "cell_type": "code",
   "execution_count": 9,
   "id": "da2f9432",
   "metadata": {},
   "outputs": [],
   "source": [
    "# 处理君享天成\n",
    "jxtc_1 = df_jxtc.loc[df_jxtc['科目代码'] == '基金资产净值:','市值'].values[0]\n",
    "jxtc_2 = df_jxtc.loc[df_jxtc['科目代码'] == '基金单位净值：','市值'].values[0]\n",
    "jxtc_3 = df_jxtc.loc[df_jxtc['科目代码'] == '累计单位净值:','市值'].values[0]\n",
    "\n",
    "# wb.sheets[2].range('D'+str(new_row[2])).value = jxtc_1\n",
    "wb.sheets[2].range('D'+str(new_row[2])).formula = formula_3\n",
    "wb.sheets[2].range('B'+str(new_row[2])).value = jxtc_2\n",
    "wb.sheets[2].range('C'+str(new_row[2])).value = jxtc_3"
   ]
  },
  {
   "cell_type": "code",
   "execution_count": 10,
   "id": "dc3eaa73",
   "metadata": {},
   "outputs": [],
   "source": [
    "# 处理盯市日报\n",
    "sheet_ds = workbook_ds['Sheet1']\n",
    "\n",
    "for cell in sheet_ds['R']:\n",
    "    if cell.row>25 and (cell.row==sheet_ds.max_row or sheet_ds['R'+str(cell.row+1)].value is None):\n",
    "        record_row5 = cell.row\n",
    "        break\n",
    "        \n",
    "valueD1 = sheet_ds['R'+str(record_row5)].value\n",
    "valueH1 = sheet_ds['Z'+str(record_row5)].value\n",
    "valueI = sheet_ds['AB'+str(record_row5)].value"
   ]
  },
  {
   "cell_type": "code",
   "execution_count": 11,
   "id": "3adefc4a",
   "metadata": {},
   "outputs": [],
   "source": [
    "# 获取盯市更新的日期commit_day 行数为record_row5-1\n",
    "commitdate = sheet_ds['D'+str(record_row5-1)].value\n",
    "commit_day = datetime.datetime(int(commitdate[0:4]),int(commitdate[5:7]),int(commitdate[8:10]))"
   ]
  },
  {
   "cell_type": "code",
   "execution_count": 12,
   "id": "08dc8190",
   "metadata": {},
   "outputs": [],
   "source": [
    "# 获取收益互换日报表数据 df_hygz df_bdcc\n",
    "syhh_para = 11003265.09/21000006.09\n",
    "\n",
    "syhh_data_1 = df_hygz.loc[df_hygz['交易确认书编号'] == '2020-49-01-004','未支付利率收益金额（结算货币）'].values[0]\n",
    "syhh_data_2 = df_hygz.loc[df_hygz['交易确认书编号'] == '2020-49-01-003','未支付利率收益金额（结算货币）'].values[0]\n",
    "syhh_data_3 = df_hygz.loc[df_hygz['交易确认书编号'] == '2020-49-01-002','未支付利率收益金额（结算货币）'].values[0]\n",
    "        \n",
    "valueH2 = syhh_para*syhh_data_1 + syhh_data_2 + syhh_data_3\n",
    "\n",
    "syhh_data_4 = df_bdcc.loc[df_bdcc['证券名称'] == '光环新网','市值(计价货币)'].values[0]\n",
    "syhh_data_5 = df_bdcc.loc[df_bdcc['证券名称'] == '东风股份','市值(计价货币)'].values[0]\n",
    "syhh_data_6 = df_bdcc.loc[df_bdcc['证券名称'] == '东兴证券','市值(计价货币)'].values[0]\n",
    "\n",
    "valueD2 = syhh_para*syhh_data_4 + syhh_data_5 + syhh_data_6"
   ]
  },
  {
   "cell_type": "code",
   "execution_count": 13,
   "id": "351463cb",
   "metadata": {},
   "outputs": [],
   "source": [
    "# 填写D列和H列和I列和C列\n",
    "# val = '=' + str(valueD1) + '+' + str(valueD2)\n",
    "# wb.sheets[1].range('D'+str(new_row[1])).value = val\n",
    "wb.sheets[1].range('D'+str(new_row[1])).formula = formula_2\n",
    "wb.sheets[1].range('C'+str(new_row[1])).formula = formula_1\n",
    "\n",
    "val = '=' + str(valueH1) + '+' + str(valueH2)\n",
    "wb.sheets[1].range('H'+str(new_row[1])).value = val\n",
    "\n",
    "wb.sheets[1].range('I'+str(new_row[1])).value = valueI"
   ]
  },
  {
   "cell_type": "code",
   "execution_count": 14,
   "id": "73836d86",
   "metadata": {},
   "outputs": [],
   "source": [
    "# 填写补充的标的\n",
    "clsy_record_row_B = None\n",
    "\n",
    "for row in range(1,new_row[1]+1):\n",
    "    if wb.sheets[1].range((row,1)).value == commit_day:\n",
    "        clsy_record_row_B = row\n",
    "        break\n",
    "        \n",
    "val = sheet_ds['K'+str(record_row5-1)].value\n",
    "\n",
    "if clsy_record_row_B:\n",
    "    wb.sheets[1].range('B'+str(clsy_record_row_B)).value = val"
   ]
  },
  {
   "cell_type": "code",
   "execution_count": 15,
   "id": "45477da3",
   "metadata": {},
   "outputs": [
    {
     "name": "stdout",
     "output_type": "stream",
     "text": [
      "***************************************************************\n",
      "Output File:\n",
      "C:\\Users\\Administrator\\Desktop\\定增投后管理/result/定增投后管理-20220221.xlsx\n",
      "***************************************************************\n"
     ]
    }
   ],
   "source": [
    "reportplace = pwd+\"/result/定增投后管理-\"+ReportDate.strftime(\"%Y%m%d\")+\".xlsx\"\n",
    "wb.save(reportplace)\n",
    "print(\"***************************************************************\")\n",
    "print(\"Output File:\")\n",
    "print(reportplace)\n",
    "print(\"***************************************************************\")\n",
    "wb.close()"
   ]
  },
  {
   "cell_type": "code",
   "execution_count": null,
   "id": "1fd9c6f4",
   "metadata": {},
   "outputs": [],
   "source": []
  }
 ],
 "metadata": {
  "kernelspec": {
   "display_name": "Python 3 (ipykernel)",
   "language": "python",
   "name": "python3"
  },
  "language_info": {
   "codemirror_mode": {
    "name": "ipython",
    "version": 3
   },
   "file_extension": ".py",
   "mimetype": "text/x-python",
   "name": "python",
   "nbconvert_exporter": "python",
   "pygments_lexer": "ipython3",
   "version": "3.9.7"
  }
 },
 "nbformat": 4,
 "nbformat_minor": 5
}
